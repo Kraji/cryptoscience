{
 "cells": [
  {
   "cell_type": "code",
   "execution_count": 3,
   "metadata": {
    "collapsed": true
   },
   "outputs": [],
   "source": [
    "import cPickle\n",
    "import matplotlib.pyplot as plt \n",
    "import sys"
   ]
  },
  {
   "cell_type": "markdown",
   "metadata": {},
   "source": [
    "## Preprocessing des données (moyenne nulle, variance 1)"
   ]
  },
  {
   "cell_type": "code",
   "execution_count": 2,
   "metadata": {
    "collapsed": true
   },
   "outputs": [],
   "source": [
    "def processing(time_series):\n",
    "    return (time_series-np.mean(time_series))/np.std(time_series)"
   ]
  },
  {
   "cell_type": "markdown",
   "metadata": {},
   "source": [
    "## Définition de la métrique d'erreur"
   ]
  },
  {
   "cell_type": "code",
   "execution_count": 4,
   "metadata": {
    "collapsed": true
   },
   "outputs": [],
   "source": [
    "def metric(t_s1, t_s2):\n",
    "    return np.square( np.tile(t_s1,(t_s1.shape[0],1))-np.tile(t_s2,(t_s2.shape[0],1)).transpose())"
   ]
  },
  {
   "cell_type": "markdown",
   "metadata": {},
   "source": [
    "## Définition du poids de Boltzmann"
   ]
  },
  {
   "cell_type": "code",
   "execution_count": 6,
   "metadata": {
    "collapsed": true
   },
   "outputs": [],
   "source": [
    "T=1.2\n",
    "\n",
    "def Boltzmann(t_s1,t_s2,T):\n",
    "    return np.exp(-metric(t_s1,t_s2)/T)"
   ]
  },
  {
   "cell_type": "markdown",
   "metadata": {},
   "source": [
    "# Changement de coordonnées"
   ]
  },
  {
   "cell_type": "code",
   "execution_count": null,
   "metadata": {
    "collapsed": true
   },
   "outputs": [],
   "source": []
  },
  {
   "cell_type": "markdown",
   "metadata": {},
   "source": [
    "# DP on a lattice"
   ]
  },
  {
   "cell_type": "code",
   "execution_count": null,
   "metadata": {
    "collapsed": true
   },
   "outputs": [],
   "source": []
  },
  {
   "cell_type": "markdown",
   "metadata": {},
   "source": [
    "# Data vizualization"
   ]
  },
  {
   "cell_type": "code",
   "execution_count": null,
   "metadata": {
    "collapsed": true
   },
   "outputs": [],
   "source": [
    "f, (ax1, ax2) = plt.subplots(2, 1, figsize=(8,8))\n",
    "ax1.plot(t_s1), ax1.plot(t_s2)\n",
    "\n",
    "TOPS=ax2.plot(np.arange(2*nb_points-1)/2., average_tops, label='TOPS')\n",
    "model=ax2.plot(np.arange(nb_points), theoretical, label='Model')\n",
    "ax2.legend(['TOPS','Model'])\n",
    "\n",
    "plt.show(block=False)\n",
    "raw_input(\"<Hit Enter To Close>\")\n",
    "plt.close()\n",
    "\n",
    "\n",
    "memo2plot=[sum_partition_rotated(partition_forward,t,epsilon_minus,T,nb_points) for t in range(2*nb_points-1)]\n",
    "memo3plot=[sum_partition_rotated(partition_backward,t,epsilon_minus,T,nb_points) for t in range(2*nb_points-1)]\n",
    "\n",
    "plt.plot(memo2plot)\n",
    "plt.plot(memo3plot)\n",
    "plt.legend(['memo2','memo3'])\n",
    "plt.show(block=False)\n",
    "raw_input(\"<Hit Enter To Close>\")\n",
    "plt.close()\n",
    "\n",
    "memo44=np.array([np.log10(memo2[i,i]) for i in range(nb_points)])\n",
    "\n",
    "plt.plot(memo44)\n",
    "plt.legend(['forward partition function diagonal'])\n",
    "plt.show(block=False)\n",
    "raw_input(\"<Hit Enter To Close>\")\n",
    "plt.close()\n",
    "\n"
   ]
  }
 ],
 "metadata": {
  "kernelspec": {
   "display_name": "Python 2",
   "language": "python",
   "name": "python2"
  },
  "language_info": {
   "codemirror_mode": {
    "name": "ipython",
    "version": 2
   },
   "file_extension": ".py",
   "mimetype": "text/x-python",
   "name": "python",
   "nbconvert_exporter": "python",
   "pygments_lexer": "ipython2",
   "version": "2.7.11"
  }
 },
 "nbformat": 4,
 "nbformat_minor": 0
}
