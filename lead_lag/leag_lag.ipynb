{
 "cells": [
  {
   "cell_type": "code",
   "execution_count": 18,
   "metadata": {
    "collapsed": true
   },
   "outputs": [],
   "source": [
    "%matplotlib inline\n",
    "\n",
    "import sys\n",
    "import numpy as np\n",
    "import cPickle\n",
    "import matplotlib.pyplot as plt\n",
    "import random\n",
    "import pylab\n",
    "from scipy import interpolate\n",
    "\n",
    "from mpl_toolkits.mplot3d import Axes3D\n",
    "from matplotlib import cm\n",
    "from matplotlib.ticker import LinearLocator, FormatStrFormatter"
   ]
  },
  {
   "cell_type": "markdown",
   "metadata": {},
   "source": [
    "## Preprocessing des données (moyenne nulle, variance 1)"
   ]
  },
  {
   "cell_type": "code",
   "execution_count": 2,
   "metadata": {
    "collapsed": true
   },
   "outputs": [],
   "source": [
    "def processing(time_series):\n",
    "    return (time_series-np.mean(time_series))/np.std(time_series)"
   ]
  },
  {
   "cell_type": "markdown",
   "metadata": {},
   "source": [
    "## Définition de la métrique d'erreur"
   ]
  },
  {
   "cell_type": "code",
   "execution_count": 8,
   "metadata": {
    "collapsed": true
   },
   "outputs": [],
   "source": [
    "def metric(t_s1, t_s2):\n",
    "    return np.square( np.tile(t_s1,(t_s1.shape[0],1))-np.tile(t_s2,(t_s2.shape[0],1)).transpose())"
   ]
  },
  {
   "cell_type": "markdown",
   "metadata": {},
   "source": [
    "## Définition du poids de Boltzmann"
   ]
  },
  {
   "cell_type": "code",
   "execution_count": 10,
   "metadata": {
    "collapsed": true
   },
   "outputs": [],
   "source": [
    "def Boltzmann(t_s1,t_s2,T=1.2):\n",
    "    return np.exp(-metric(t_s1,t_s2)/T)"
   ]
  },
  {
   "cell_type": "markdown",
   "metadata": {},
   "source": [
    "# Changement de coordonnées"
   ]
  },
  {
   "cell_type": "code",
   "execution_count": null,
   "metadata": {
    "collapsed": true
   },
   "outputs": [],
   "source": []
  },
  {
   "cell_type": "markdown",
   "metadata": {},
   "source": [
    "# DP on a lattice Alberto "
   ]
  },
  {
   "cell_type": "code",
   "execution_count": 25,
   "metadata": {
    "collapsed": true
   },
   "outputs": [],
   "source": [
    "random.seed(-2)\n",
    "T=101"
   ]
  },
  {
   "cell_type": "markdown",
   "metadata": {},
   "source": [
    "### Energy of the point to point DP at zero temperature"
   ]
  },
  {
   "cell_type": "code",
   "execution_count": 24,
   "metadata": {
    "collapsed": false
   },
   "outputs": [
    {
     "data": {
      "image/png": "[encoded data removed]",
      "text/plain": [
       "<matplotlib.figure.Figure at 0x1175fd6d0>"
      ]
     },
     "metadata": {},
     "output_type": "display_data"
    }
   ],
   "source": [
    "E = 100*np.ones(2*T-1)\n",
    "E[0] = 0\n",
    "\n",
    "for time in range(1,T) :\n",
    "    for x in range(time,-time-2,-2) :\n",
    "        E[x] = np.minimum(E[x-1],E[x+1]) + np.random.normal()\n",
    "\n",
    "xt1 = np.arange(T)\n",
    "xt2 = np.arange(T-1)-T+1\n",
    "xt = np.concatenate((xt1,xt2))\n",
    "\n",
    "plt.figure(3)\n",
    "plt.plot(xt,E, 'r.', markersize=2)\n",
    "plt.title('Energy vs position')\n",
    "plt.xlabel('Position'), plt.ylabel('Energy')\n",
    "plt.show(block=False)"
   ]
  },
  {
   "cell_type": "markdown",
   "metadata": {},
   "source": [
    "### Position of the point to point DP at zero temperature "
   ]
  },
  {
   "cell_type": "code",
   "execution_count": null,
   "metadata": {
    "collapsed": true
   },
   "outputs": [],
   "source": []
  },
  {
   "cell_type": "code",
   "execution_count": null,
   "metadata": {
    "collapsed": true
   },
   "outputs": [],
   "source": [
    "random.seed(-2)\n",
    "T=105\n",
    "\n",
    "## Free energy of the polymer\n",
    "def zero_temperature_energy(T=101):\n",
    "    E = 100*np.ones(2*T-1)\n",
    "    E[0] = 0\n",
    "\n",
    "    for time in range(1,T) :\n",
    "        for x in range(time,-time-2,-2) :\n",
    "            E[x] = np.minimum(E[x-1],E[x+1]) + np.random.normal()\n",
    "\n",
    "    xt1 = np.arange(T)\n",
    "    xt2 = np.arange(T-1)-T+1\n",
    "    xt = np.concatenate((xt1,xt2))\n",
    "\n",
    "# ou xt=np.roll(np.arange(-T+1,T),T)\n",
    "\n",
    "    plt.figure(3)\n",
    "    plt.plot(xt,E, 'r.', markersize=2)\n",
    "    plt.title('Energy vs position')\n",
    "    plt.xlabel('Position'), plt.ylabel('Energy')\n",
    "    plt.show(block=False)\n",
    "    raw_input(\"<Hit Enter To Close>\")\n",
    "    plt.close()\n",
    "\n",
    "def zero_temperature_position(T=101) :\n",
    "    # T should be odd\n",
    "    lattice=np.zeros((T,2*T))\n",
    "    E=10000*np.ones(2*T)\n",
    "\n",
    "    ## Definition of the starting point\n",
    "    E[0]=0\n",
    "\n",
    "    for time in range(1,T) :\n",
    "        for x in range(time,-time-2,-2) :\n",
    "            values=[E[x-1],E[x+1]]\n",
    "            lattice[time,x]=2*np.argmin(values)-1\n",
    "            E[x]=np.amin(values)+np.random.normal()\n",
    "\n",
    "    Polym=np.zeros(T)\n",
    "\n",
    "    ## Definition of the ending point\n",
    "    itoto=0\n",
    "    Polym[T-1]=itoto\n",
    "\n",
    "    for time in range(1,T-1):\n",
    "        idelta=lattice[T-time,int(itoto)]\n",
    "        itoto+=idelta\n",
    "        Polym[T-1-time]=itoto\n",
    "\n",
    "    plt.figure(5)\n",
    "    plt.plot(Polym,range(T), 'r', markersize=2)\n",
    "    plt.title('Path of the polymer')\n",
    "    plt.xlabel('Position of the polymer'), plt.ylabel('Time')\n",
    "    plt.show(block=False)\n",
    "    raw_input(\"<Hit Enter To Close>\")\n",
    "    plt.close()\n",
    "\n",
    "def temperature_partition(T=101) :\n",
    "    beta=1\n",
    "    Z=np.zeros(2*T-1)\n",
    "    Z[0]=1\n",
    "    for time in range(1,T) :\n",
    "        for x in range(time,-time-2,-2) :\n",
    "            Z[x]=(Z[x-1]+Z[x+1])*math.exp(-beta*np.random.normal())\n",
    "\n",
    "def zero_temperature_position_3D(T=101) :\n",
    "    # T should be odd\n",
    "    lattice=np.zeros((T,2*T))\n",
    "    E=10000*np.ones(2*T)\n",
    "\n",
    "    disorder=np.random.normal(size=(T,2*T))\n",
    "\n",
    "    fig = plt.figure(6,figsize=(12, 8))\n",
    "    ax = fig.gca(projection='3d')\n",
    "\n",
    "    # Make data.\n",
    "    X = np.arange(-T, T)\n",
    "    Y = np.arange(0, T)\n",
    "    X, Y = np.meshgrid(X, Y)\n",
    "\n",
    "    # Plot the surface.\n",
    "    surf = ax.plot_surface(X, Y, disorder, cmap=cm.jet,linewidth=10, antialiased=False)\n",
    "\n",
    "    # Customize the z axis.\n",
    "    #ax.set_zlim(-1.01, 1.01)\n",
    "    ax.zaxis.set_major_locator(LinearLocator(10))\n",
    "    ax.zaxis.set_major_formatter(FormatStrFormatter('%.02f'))\n",
    "    ax.set_xlabel('x')\n",
    "    ax.set_ylabel('time')\n",
    "    ax.set_zlabel('Disorder strength')\n",
    "\n",
    "    # Add a color bar which maps values to colors.\n",
    "    fig.colorbar(surf, shrink=0.5, aspect=5)\n",
    "    plt.show(block=False)\n",
    "    raw_input(\"<Hit Enter To Close>\")\n",
    "    plt.close()\n",
    "\n",
    "\n",
    "    ## Definition of the starting point\n",
    "    E[0]=0\n",
    "\n",
    "    for time in range(1,T) :\n",
    "        for x in range(np.minimum(time,T-time+1),np.maximum(-time,time-T-1)-2,-2) :\n",
    "            values=[E[x-1],E[x+1]]\n",
    "            lattice[time,x]=2*np.argmin(values)-1\n",
    "            E[x]=np.amin(values)+disorder[time,x]\n",
    "\n",
    "    Polym=np.zeros(T)\n",
    "\n",
    "    ## Definition of the ending point\n",
    "    # Polym is the \"x\" position on the lattice\n",
    "    itoto=0\n",
    "    Polym[T-1]=itoto\n",
    "\n",
    "    for time in range(1,T-1):\n",
    "        idelta=lattice[T-time,int(itoto)]\n",
    "        itoto+=idelta\n",
    "        Polym[T-1-time]=itoto\n",
    "\n",
    "    plt.figure(5)\n",
    "    plt.plot(Polym,range(T), 'r', markersize=2)\n",
    "    plt.title('Path of the polymer')\n",
    "    plt.xlabel('Position of the polymer'), plt.ylabel('Time')\n",
    "    plt.show(block=False)\n",
    "    raw_input(\"<Hit Enter To Close>\")\n",
    "    plt.close()\n",
    "\n",
    "\n",
    "def zero_temperature_position_3D_2(T=101) :\n",
    "    # T should be odd\n",
    "    lattice=np.zeros((T,2*T))\n",
    "    E=10000*np.ones(2*T)\n",
    "\n",
    "    disorder=np.random.normal(size=(T,2*T))\n",
    "\n",
    "    disorder2=np.roll(disorder, T, axis=1)\n",
    "\n",
    "    fig = plt.figure(6,figsize=(12, 8))\n",
    "    ax = fig.gca(projection='3d')\n",
    "\n",
    "    # Make data.\n",
    "    X = np.arange(-T, T)\n",
    "    Y = np.arange(0, T)\n",
    "    X, Y = np.meshgrid(X, Y)\n",
    "\n",
    "    # Plot the surface.\n",
    "    surf = ax.plot_surface(X, Y, disorder2, cmap=cm.jet,linewidth=1, antialiased=True)\n",
    "\n",
    "    # Customize the z axis.\n",
    "    #ax.set_zlim(-1.01, 1.01)\n",
    "    ax.zaxis.set_major_locator(LinearLocator(10))\n",
    "    ax.zaxis.set_major_formatter(FormatStrFormatter('%.02f'))\n",
    "    ax.set_xlabel('x')\n",
    "    ax.set_ylabel('time')\n",
    "    ax.set_zlabel('Disorder strength')\n",
    "\n",
    "    # Add a color bar which maps values to colors.\n",
    "    fig.colorbar(surf, shrink=0.5, aspect=5)\n",
    "    plt.show(block=False)\n",
    "    raw_input(\"<Hit Enter To Close>\")\n",
    "    plt.close()\n",
    "\n",
    "    #### Smoothing the surface\n",
    "\n",
    "    xnew, ynew = np.mgrid[-T:T:0.5, -T:T:0.5]\n",
    "    tck = interpolate.bisplrep(X, Y, disorder2, s=0)\n",
    "    znew = interpolate.bisplev(xnew[:,0], ynew[0,:], tck)\n",
    "\n",
    "    fig = plt.figure(7,figsize=(12,8))\n",
    "    ax2 = fig.gca(projection='3d')\n",
    "    surf2=ax2.plot_surface(xnew, ynew, znew, cmap=cm.jet, rstride=1, cstride=1, alpha=None, antialiased=True)\n",
    "    ax2.zaxis.set_major_locator(LinearLocator(10))\n",
    "    ax2.zaxis.set_major_formatter(FormatStrFormatter('%.02f'))\n",
    "    ax2.set_xlabel('x')\n",
    "    ax2.set_ylabel('time')\n",
    "    ax2.set_zlabel('Disorder strength')\n",
    "\n",
    "    fig.colorbar(surf2, shrink=0.5, aspect=5)\n",
    "    plt.show(block=False)\n",
    "    raw_input(\"<Hit Enter To Close>\")\n",
    "    plt.close()\n",
    "\n",
    "    ## Definition of the starting point\n",
    "    E[0]=0\n",
    "\n",
    "    for time in range(1,T) :\n",
    "        for x in range(np.minimum(time,T-time+2),np.maximum(-time,time-T-2)-2,-2) :\n",
    "            values=[E[x-1],E[x+1]]\n",
    "            lattice[time,x]=2*np.argmin(values)-1\n",
    "            E[x]=np.amin(values)+disorder[time,x]\n",
    "\n",
    "    Polym=np.zeros(T)\n",
    "\n",
    "    ## Definition of the ending point\n",
    "    # Polym is the \"x\" position on the lattice\n",
    "    itoto=0\n",
    "    Polym[T-1]=itoto\n",
    "\n",
    "    for time in range(1,T-1):\n",
    "        idelta=lattice[T-time,int(itoto)]\n",
    "        itoto+=idelta\n",
    "        Polym[T-1-time]=itoto\n",
    "\n",
    "    plt.figure(8)\n",
    "    plt.plot(Polym,range(T), 'r', markersize=2)\n",
    "    plt.title('Path of the polymer')\n",
    "    plt.xlabel('Position of the polymer'), plt.ylabel('Time')\n",
    "    plt.show(block=False)\n",
    "    raw_input(\"<Hit Enter To Close>\")\n",
    "    plt.close()\n",
    "\n",
    "\n",
    "def zero_temperature_position_columnar(T=101) :\n",
    "    # T should be odd\n",
    "    lattice=np.zeros((T,2*T))\n",
    "    E=10000*np.ones(2*T)\n",
    "\n",
    "    disorder=np.random.normal(size=(T+1,1))+alpha*np.roll(np.arange(-T+1,T),T)\n",
    "    ## Definition of the starting point\n",
    "    E[0]=0\n",
    "\n",
    "    for time in range(1,T) :\n",
    "        for x in range(time,-time-2,-2) :\n",
    "            values=[E[x-1],E[x+1]]\n",
    "            lattice[time,x]=2*np.argmin(values)-1\n",
    "            E[x]=np.amin(values)+np.random.normal()\n",
    "\n",
    "    Polym=np.zeros(T)\n",
    "\n",
    "    ## Definition of the ending point\n",
    "    # Polym is the \"x\" position on the lattice\n",
    "    itoto=0\n",
    "    Polym[T-1]=itoto\n",
    "\n",
    "    for time in range(1,T-1):\n",
    "        idelta=lattice[T-time,int(itoto)]\n",
    "        itoto+=idelta\n",
    "        Polym[T-1-time]=itoto\n",
    "\n",
    "    plt.figure(5)\n",
    "    plt.plot(Polym,range(T), 'r', markersize=2)\n",
    "    plt.title('Path of the polymer')\n",
    "    plt.xlabel('Position of the polymer'), plt.ylabel('Time')\n",
    "    plt.show(block=False)\n",
    "    raw_input(\"<Hit Enter To Close>\")\n",
    "    plt.close()\n",
    "\n",
    "#zero_temperature_position()\n",
    "zero_temperature_position_3D_2(50)"
   ]
  },
  {
   "cell_type": "markdown",
   "metadata": {},
   "source": [
    "# DP on a lattice Alberto 2"
   ]
  },
  {
   "cell_type": "code",
   "execution_count": null,
   "metadata": {
    "collapsed": true
   },
   "outputs": [],
   "source": [
    "T  =  120\n",
    "E = [10000 for n in range(-T,T-1)]\n",
    "E[0] = 0\n",
    "for time in range(1,T) :\n",
    "    for n in range(time+1) :\n",
    "        x = time - 2*n\n",
    "        E[x] = min(E[x-1],E[x+1]) + random.gauss(0,1)\n",
    "xt1 = [n for n in range(0,T)]\n",
    "xt2 = [n - T+1 for n in range(0,T-1)]\n",
    "xt = xt1 + xt2        \n",
    "pylab.plot(xt,E, 'r.', markersize=2)\n",
    "pylab.show()"
   ]
  },
  {
   "cell_type": "code",
   "execution_count": null,
   "metadata": {
    "collapsed": true
   },
   "outputs": [],
   "source": [
    "# T should be odd\n",
    "T  = 155\n",
    "lattice=[[0 for n in range(-T,T)] for i in range(T)]\n",
    "E=[100000 for n in range(-T,T)]\n",
    "E[0]=0\n",
    "for time in range(1,T) :\n",
    "    for n in range(time+1):\n",
    "        x=time-2*n\n",
    "        values=[E[x-1],E[x+1]]\n",
    "        Emin=min(values)\n",
    "        imin=2*values.index(Emin)-1\n",
    "        lattice[time][x]=imin\n",
    "        E[x]=Emin+random.gauss(0,1)        \n",
    "Polym=[0 for i in range(T)]\n",
    "itoto=0\n",
    "Polym[T-1]=itoto\n",
    "for time in range(1,T-1):\n",
    "    idelta=lattice[T-time][itoto]\n",
    "    itoto+=idelta\n",
    "    Polym[T-1-time]=itoto\n",
    "pylab.plot(Polym, 'r', markersize=2)\n",
    "pylab.show()"
   ]
  },
  {
   "cell_type": "code",
   "execution_count": null,
   "metadata": {
    "collapsed": true
   },
   "outputs": [],
   "source": [
    "T  = 80\n",
    "beta=1\n",
    "Z=[0 for n in range(-T,T)]\n",
    "Z[0]=1\n",
    "for time in range(1,T) :\n",
    "    for n in range(time+1):\n",
    "        x=time-2*n\n",
    "        Z[x]=(Z[x-1]+Z[x+1])*math.exp(-beta*random.gauss(0,1))"
   ]
  },
  {
   "cell_type": "code",
   "execution_count": null,
   "metadata": {
    "collapsed": true
   },
   "outputs": [],
   "source": [
    "T  = 80\n",
    "beta=1\n",
    "Z=[0 for n in range(-T,T-1)]\n",
    "Z[0]=1\n",
    "xfree=0\n",
    "for time in range(1,T) :\n",
    "    xmax=-1\n",
    "    for n in range(time+1):\n",
    "        x=time-2*n\n",
    "        Z[x]=(Z[x-1]+Z[x+1])*math.exp(-beta*random.gauss(0,1))\n",
    "        if xmax <Z[x]:\n",
    "           xmax=Z[x]\n",
    "    xfree+=math.log(xmax)\n",
    "    Z[:] = [x/xmax for x in Z]   \n",
    "F = [-xfree - math.log(Z[n])  for n in range(-T,T-1)]     \n",
    "pylab.plot(F, 'r.', markersize=2)\n",
    "pylab.show()"
   ]
  },
  {
   "cell_type": "markdown",
   "metadata": {},
   "source": [
    "# DP on a lattice moi"
   ]
  },
  {
   "cell_type": "code",
   "execution_count": null,
   "metadata": {
    "collapsed": true
   },
   "outputs": [],
   "source": [
    "# Transfer matrix method at non-zero temperature\n",
    "## In time frame t1,t2\n",
    "### FORWARD\n",
    "memo2={}\n",
    "def partition_forward(t1,t2,epsilon,T,N,t10,t20,t11,t21):\n",
    "    if (t1<t10 or t2<t20 or t1>t11 or t2>t21):\n",
    "        return 0\n",
    "    else:\n",
    "        if not (t1,t2) in memo2:\n",
    "            if (t1==0 and t2==0):\n",
    "                memo2[t1,t2]=epsilon[t1,t2]\n",
    "            else:\n",
    "                memo2[t1,t2]=epsilon[t1,t2] * (partition_forward(t1,t2-1,epsilon,T,N) + partition_forward(t1-1,t2,epsilon,T,N) + partition_forward(t1-1,t2-1,epsilon,T,N))\n",
    "        return memo2[t1,t2]\n",
    "\n",
    "### BACKWARD\n",
    "memo3={}\n",
    "def partition_backward(t1,t2,epsilon,T,N, t10, t20, t11,t21):\n",
    "    if (t1>t11 or t2>t21 or t1<t10 or t2<t20):\n",
    "        return 0\n",
    "    else:\n",
    "        if not (t1,t2) in memo3:\n",
    "            if (t1==N-1 and t2==N-1):\n",
    "                memo3[t1,t2]=epsilon[t1,t2]\n",
    "            else:\n",
    "                memo3[t1,t2]=epsilon[t1,t2] * (partition_backward(t1,t2+1,epsilon,T,N)+partition_backward(t1+1,t2,epsilon,T,N)+partition_backward(t1+1,t2+1,epsilon,T,N))\n",
    "        return memo3[t1,t2]\n",
    "\n",
    "## In rotated frame where t=t1+t2 and x=t2-t1\n",
    "## Partition function\n",
    "def sum_partition_rotated(partition,t,epsilon,T,N,t10,t20,t11,t21):\n",
    "    sum=0\n",
    "    if (t=>t10+t20 and t<=t11+t21):\n",
    "        for x in range(int(np.maximum(-t,t-2*(N-1))),int(np.minimum(t,2*(N-1)-t))+1):\n",
    "            if ((t-x)%2==0 and (t+x)%2==0):\n",
    "                sum+=partition((t-x)/2,(t+x)/2,epsilon,T,N,t10,t20,t11,t21)\n",
    "    return sum\n",
    "\n",
    "## Average of lead/lag <x(t)>\n",
    "def average_x(partition,t,epsilon,T,N,t10,t20,t11,t21):\n",
    "    avr_x=0\n",
    "    if (t=>t10+t20 and t<=t11+t21):\n",
    "        for x in range(int(np.maximum(-t,t-2*(N-1))),int(np.minimum(t,2*(N-1)-t))+1):\n",
    "            if ((t-x)%2==0 and (t+x)%2==0):\n",
    "                avr_x+=x*partition((t-x)/2,(t+x)/2,epsilon,T,N,t10,t20,t11,t21)\n",
    "    return avr_x/sum_partition_rotated(partition,t,epsilon,T,N,t10,t20,t11,t21)\n",
    "\n",
    "## Cost energy\n",
    "def cost_energy(partition,t,epsilon,T,N,t10,t20,t11,t21):\n",
    "    cost_energy=0\n",
    "    if (t=>t10+t20 and t<=t11+t21):\n",
    "        for x in range(int(np.maximum(-t,t-2*(N-1))),int(np.minimum(t,2*(N-1)-t))+1):\n",
    "            if ((t-x)%2==0 and (t+x)%2==0):\n",
    "                cost_energy+=epsilon[(t-x)/2,(t+x)/2]*partition((t-x)/2,(t+x)/2,epsilon,T,N,t10,t20,t11,t21)\n",
    "    return cost_energy/sum_partition_rotated(partition,t,epsilon,T,N,t10,t20,t11,t21)\n",
    "\n",
    "\n"
   ]
  },
  {
   "cell_type": "markdown",
   "metadata": {},
   "source": [
    "# TOPS METHOD"
   ]
  },
  {
   "cell_type": "code",
   "execution_count": 7,
   "metadata": {
    "collapsed": true
   },
   "outputs": [],
   "source": [
    "def tops_average_x(t,epsilon,T,N,t10,t20,t11,t21):\n",
    "    return ( average_x(partition_forward,t,epsilon,T,N,t10,t20,t11,t21) + average_x(partition_backward,t,epsilon,T,N,t10,t20,t11,t21) )/2.\n",
    "\n",
    "def tops_cost_energy(epsilon,T,N,t10,t20,t11,t21):\n",
    "    tops_cost=0\n",
    "    for t in range(t10+t20,t11+t21):\n",
    "        tops_cost+=(cost_energy(partition_forward,t,epsilon,T,N)+cost_energy(partition_backward,t,epsilon,T,N))/2.\n",
    "    return tops_cost/(2*N-1)"
   ]
  },
  {
   "cell_type": "markdown",
   "metadata": {},
   "source": [
    "# Data vizualization"
   ]
  },
  {
   "cell_type": "code",
   "execution_count": null,
   "metadata": {
    "collapsed": true
   },
   "outputs": [],
   "source": [
    "f, (ax1, ax2) = plt.subplots(2, 1, figsize=(8,8))\n",
    "ax1.plot(t_s1), ax1.plot(t_s2)\n",
    "\n",
    "TOPS=ax2.plot(np.arange(2*nb_points-1)/2., average_tops, label='TOPS')\n",
    "model=ax2.plot(np.arange(nb_points), theoretical, label='Model')\n",
    "ax2.legend(['TOPS','Model'])\n",
    "\n",
    "plt.show(block=False)\n",
    "raw_input(\"<Hit Enter To Close>\")\n",
    "plt.close()\n",
    "\n",
    "\n",
    "memo2plot=[sum_partition_rotated(partition_forward,t,epsilon_minus,T,nb_points) for t in range(2*nb_points-1)]\n",
    "memo3plot=[sum_partition_rotated(partition_backward,t,epsilon_minus,T,nb_points) for t in range(2*nb_points-1)]\n",
    "\n",
    "plt.plot(memo2plot)\n",
    "plt.plot(memo3plot)\n",
    "plt.legend(['memo2','memo3'])\n",
    "plt.show(block=False)\n",
    "raw_input(\"<Hit Enter To Close>\")\n",
    "plt.close()\n",
    "\n",
    "memo44=np.array([np.log10(memo2[i,i]) for i in range(nb_points)])\n",
    "\n",
    "plt.plot(memo44)\n",
    "plt.legend(['forward partition function diagonal'])\n",
    "plt.show(block=False)\n",
    "raw_input(\"<Hit Enter To Close>\")\n",
    "plt.close()\n",
    "\n"
   ]
  }
 ],
 "metadata": {
  "kernelspec": {
   "display_name": "Python 2",
   "language": "python",
   "name": "python2"
  },
  "language_info": {
   "codemirror_mode": {
    "name": "ipython",
    "version": 2
   },
   "file_extension": ".py",
   "mimetype": "text/x-python",
   "name": "python",
   "nbconvert_exporter": "python",
   "pygments_lexer": "ipython2",
   "version": "2.7.11"
  }
 },
 "nbformat": 4,
 "nbformat_minor": 0
}
